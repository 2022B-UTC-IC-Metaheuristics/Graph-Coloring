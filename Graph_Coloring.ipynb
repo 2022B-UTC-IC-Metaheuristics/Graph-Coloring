{
 "cells": [
  {
   "cell_type": "code",
   "execution_count": 13,
   "metadata": {},
   "outputs": [],
   "source": [
    "import csv\n",
    "import numpy as np\n",
    "import random\n",
    "from collections import Counter"
   ]
  },
  {
   "attachments": {},
   "cell_type": "markdown",
   "metadata": {},
   "source": [
    "Leer el archivo.csv.\n",
    "\n",
    "Donde se encuentra la matriz de adyacencia con el siguiente formato.\n",
    "\n",
    "|0|1|0|0|0|0|0|1|1|0|\n",
    "|-|-|-|-|-|-|-|-|-|-|\n",
    "|1|0|0|1|0|1|0|1|1|0|\n",
    "|0|0|0|1|0|0|0|0|0|1|\n",
    "|0|1|1|0|1|1|0|0|1|0|\n",
    "|0|0|0|1|0|0|0|1|0|0|\n",
    "|0|1|0|1|0|0|1|1|0|1|\n",
    "|0|0|0|0|0|1|0|0|1|0|\n",
    "|1|1|0|0|1|1|0|0|0|0|\n",
    "|1|1|0|1|0|0|1|0|0|0|\n",
    "|0|0|1|0|0|1|0|0|0|0|"
   ]
  },
  {
   "cell_type": "code",
   "execution_count": 14,
   "metadata": {},
   "outputs": [],
   "source": [
    "newMatrix = []\n",
    "with open('10nodos.csv', 'r', newline='') as file:\n",
    "  myreader = csv.reader(file, delimiter=',')\n",
    "  for rows in myreader:\n",
    "   newMatrix.append(rows)\n",
    "newMatrix = np.array(newMatrix)"
   ]
  },
  {
   "attachments": {},
   "cell_type": "markdown",
   "metadata": {},
   "source": [
    "Comprobar que cada nodo adyacente tenga un color distinto."
   ]
  },
  {
   "cell_type": "code",
   "execution_count": 15,
   "metadata": {},
   "outputs": [],
   "source": [
    "def isSafe(graph, color, size):\n",
    "  for i in range(size):\n",
    "    for j in range(i + 1, size):\n",
    "      if (graph[i][j] and color[j] == color[i]):\n",
    "        return False\n",
    "  return True"
   ]
  },
  {
   "attachments": {},
   "cell_type": "markdown",
   "metadata": {},
   "source": [
    "Calcular el Número Crómatico"
   ]
  },
  {
   "cell_type": "code",
   "execution_count": 16,
   "metadata": {},
   "outputs": [],
   "source": [
    "def Costo(sol):\n",
    "  ncolores = len(Counter(sol))\n",
    "  return ncolores"
   ]
  },
  {
   "cell_type": "code",
   "execution_count": 17,
   "metadata": {},
   "outputs": [],
   "source": [
    "def Genera_Vecino(size, graph):\n",
    "  sol = [0 for i in range(size)]\n",
    "  ncolor = random.uniform(1, size+1)\n",
    "  for i in range(size):\n",
    "    r = int(random.uniform(1, ncolor))\n",
    "    sol[i] = r\n",
    "  #verfifica que la solucion sea valida\n",
    "  if (isSafe(graph, sol, size)) == -1:\n",
    "    sol = Genera_Vecino(size, graph)\n",
    "  return sol"
   ]
  },
  {
   "cell_type": "code",
   "execution_count": 18,
   "metadata": {},
   "outputs": [
    {
     "name": "stdout",
     "output_type": "stream",
     "text": [
      "Solución:  [1, 6, 9, 1, 6, 5, 7, 6, 9, 4]\n",
      "Número Crómatico:  6\n"
     ]
    }
   ],
   "source": [
    "solucion = Genera_Vecino(10, newMatrix)\n",
    "print(\"Solución: \", solucion)\n",
    "print(\"Número Crómatico: \", Costo(solucion))"
   ]
  }
 ],
 "metadata": {
  "kernelspec": {
   "display_name": "Python 3",
   "language": "python",
   "name": "python3"
  },
  "language_info": {
   "codemirror_mode": {
    "name": "ipython",
    "version": 3
   },
   "file_extension": ".py",
   "mimetype": "text/x-python",
   "name": "python",
   "nbconvert_exporter": "python",
   "pygments_lexer": "ipython3",
   "version": "3.11.2"
  },
  "orig_nbformat": 4
 },
 "nbformat": 4,
 "nbformat_minor": 2
}
